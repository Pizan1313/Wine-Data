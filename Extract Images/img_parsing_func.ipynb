{
 "cells": [
  {
   "cell_type": "markdown",
   "id": "bba5ba1a",
   "metadata": {},
   "source": [
    "# Extracting Cropped Images"
   ]
  },
  {
   "cell_type": "markdown",
   "id": "677af5f0",
   "metadata": {},
   "source": [
    "## Libraries"
   ]
  },
  {
   "cell_type": "code",
   "execution_count": 1,
   "id": "725a05c7",
   "metadata": {},
   "outputs": [],
   "source": [
    "# Import libraries\n",
    "import pandas as pd\n",
    "import requests\n",
    "import os\n",
    "from sanitize_filename import sanitize\n",
    "import os.path\n",
    "import warnings\n",
    "warnings.filterwarnings(\"ignore\")\n",
    "from PIL import Image\n",
    "import sys\n",
    "import requests\n",
    "\n",
    "from tqdm.auto import tqdm\n",
    "import yadisk\n",
    "\n",
    "# Yandex Disk token\n",
    "token = ''\n",
    "\n",
    "# Telegram API token and chat ID\n",
    "tg_api_token = ''\n",
    "tg_chat_id = ''"
   ]
  },
  {
   "cell_type": "markdown",
   "id": "3c805bd5",
   "metadata": {},
   "source": [
    "## Extracting, cropping and saving image"
   ]
  },
  {
   "cell_type": "code",
   "execution_count": 2,
   "id": "c0e6fd32",
   "metadata": {},
   "outputs": [],
   "source": [
    "def parsing(folder_from, file_name, folder_to, final_folder):\n",
    "    \n",
    "    # Read Excel file\n",
    "    df = pd.read_excel(os.path.join(folder_from, file_name +'.xlsx'), usecols=['img_large', 'wine_id'])\n",
    "    \n",
    "    # Drop rows with NaN values in 'img_large' column\n",
    "    df = df.dropna(subset=['img_large']).reset_index(drop=True)\n",
    "\n",
    "    # Loop through each row in the DataFrame\n",
    "    for i in tqdm(range(len(df))):\n",
    "        try:\n",
    "            # Get the image URL\n",
    "            img_large = df['img_large'][i]\n",
    "\n",
    "            # Get the wine ID as the filename\n",
    "            directory = sanitize(str(df['wine_id'][i]))\n",
    "\n",
    "            # Set the parent directory for the original and cropped images\n",
    "            parent_dir_large = folder_to\n",
    "            parent_crop_large = final_folder\n",
    "\n",
    "            # Set the file path for the original image\n",
    "            path_large = os.path.join(parent_dir_large, directory)\n",
    "\n",
    "            # Set the file path for the original image with extension\n",
    "            IMG_large = os.path.join(parent_dir_large, directory + '.png') \n",
    "\n",
    "            # Open a blank file to write the image content\n",
    "            file_large = open(IMG_large, \"wb\")\n",
    "\n",
    "            # Write the image content to the file\n",
    "            file_large.write(requests.get('http:' + str(img_large)).content)\n",
    "            \n",
    "            # Open the image in RGB mode\n",
    "            img = Image.open(os.path.join(parent_dir_large, directory + '.png'))\n",
    "\n",
    "            # Crop the image to remove the VIVINO watermark and neck of the bottle\n",
    "            width, height = img.size\n",
    "            img1 = img.crop((0, 250, width, height - 55))\n",
    "\n",
    "            # Save the cropped image\n",
    "            img1.save(os.path.join(parent_crop_large, directory + '.png'))\n",
    "            \n",
    "        except:\n",
    "            pass"
   ]
  },
  {
   "cell_type": "markdown",
   "id": "95b72c12",
   "metadata": {},
   "source": [
    "<div style='border-radius: 15px; box-shadow: 2px 2px 2px; border: 1px solid green; padding: 20px'>\n",
    "This function appears to parse image URLs from an Excel file and download and process the images using the Pillow library.\n",
    "    \n",
    "- The function reads an Excel file with a specified filename and sheet ('img_large' and 'wine_id' columns are used), drops rows with NaN values in the 'img_large' column, and then loops through each row.\n",
    "- For each row, it downloads the image from the provided URL using the 'requests' library, saves it as a PNG file in the specified 'folder_to' directory, and then crops the image to remove a watermark and neck of the bottle using the Pillow library. - The cropped image is then saved in the 'final_folder' directory with the same wine ID as the filename.\n",
    "- Any exceptions that occur during image processing are ignored ('except: pass').    \n",
    "</div>"
   ]
  },
  {
   "cell_type": "markdown",
   "id": "53a55472",
   "metadata": {},
   "source": [
    "## Saving to Yandex Disk"
   ]
  },
  {
   "cell_type": "code",
   "execution_count": 3,
   "id": "c879bda9",
   "metadata": {},
   "outputs": [],
   "source": [
    "def save_img_to_YDisk(final_folder,token,y_folder):\n",
    "    \n",
    "    y = yadisk.YaDisk(token=token)\n",
    "\n",
    "    if y.check_token() == True:\n",
    "        for filename in tqdm(os.listdir(final_folder)):\n",
    "            try:\n",
    "                y.upload(os.path.join(final_folder, filename), y_folder+filename)\n",
    "            except: print(f'Wine photo {filename} is already on disk')\n",
    "    else: print('YandexDisk token entered incorrectly, check the Token')"
   ]
  },
  {
   "cell_type": "markdown",
   "id": "9198dadb",
   "metadata": {},
   "source": [
    "<div style='border-radius: 15px; box-shadow: 2px 2px 2px; border: 1px solid green; padding: 20px'>\n",
    "This function appears to upload images to Yandex.Disk (a cloud storage service) using the 'yadisk' library.\n",
    "    \n",
    "- The function takes three arguments: 'final_folder' (the directory where the images are stored), 'token' (the Yandex.Disk access token), and 'y_folder' (the Yandex.Disk folder where the images will be uploaded).\n",
    "- It uses the 'yadisk' library to create a Yandex.Disk object with the provided access token and then checks if the token is valid using the 'check_token()' method.\n",
    "- If the token is valid, the function loops through each file in the 'final_folder' directory, and uploads the file to Yandex.Disk with the same filename in the specified 'y_folder' using the 'upload()' method.\n",
    "- If the token is invalid, it prints an error message indicating that the token is incorrect. If any exceptions occur during the file upload, it prints a message indicating that the image already exists on Yandex.Disk.    \n",
    "</div>"
   ]
  },
  {
   "cell_type": "markdown",
   "id": "68e710d6",
   "metadata": {},
   "source": [
    "## Sending message to Telegram Bot"
   ]
  },
  {
   "cell_type": "code",
   "execution_count": 4,
   "id": "74c39b08",
   "metadata": {},
   "outputs": [],
   "source": [
    "def send_tg_message(tg_api_token,tg_chat_id,text='Parsing of photos completed.'):\n",
    "    requests.post('https://api.telegram.org/' + 'bot{}/sendMessage'.format(tg_api_token),\n",
    "                  params=dict(chat_id=tg_chat_id, text=text))"
   ]
  },
  {
   "cell_type": "markdown",
   "id": "9b026537",
   "metadata": {},
   "source": [
    "<div style='border-radius: 15px; box-shadow: 2px 2px 2px; border: 1px solid green; padding: 20px'>\n",
    "This function appears to send a text message to a specified chat in Telegram using the Telegram Bot API.\n",
    "\n",
    "- The function takes an optional argument 'text' which represents the message to be sent. The default value is 'Parsing of photos completed.' if no text is provided.\n",
    "- It uses the 'requests' library to send a POST request to the Telegram Bot API with the chat ID, text message, and bot token ('tg_api_token') as parameters.\n",
    "- The chat ID and bot token are expected to be defined elsewhere in the code.    \n",
    "</div>"
   ]
  },
  {
   "cell_type": "markdown",
   "id": "7503cda1",
   "metadata": {},
   "source": [
    "## Final function"
   ]
  },
  {
   "cell_type": "code",
   "execution_count": 5,
   "id": "850ac822",
   "metadata": {},
   "outputs": [],
   "source": [
    "def parsing_img(folder_from, file_name, folder_to, final_folder,token,y_folder,tg_api_token,tg_chat_id,YDisk, TG):\n",
    "    parsing(folder_from, file_name, folder_to, final_folder)\n",
    "    if YDisk == True:\n",
    "        save_img_to_YDisk(final_folder,token,y_folder)\n",
    "    else: pass\n",
    "    if TG == True:\n",
    "        send_tg_message(tg_api_token,tg_chat_id,text='Parsing of photos completed.')\n",
    "    else: pass"
   ]
  }
 ],
 "metadata": {
  "kernelspec": {
   "display_name": "Python 3",
   "language": "python",
   "name": "python3"
  },
  "language_info": {
   "codemirror_mode": {
    "name": "ipython",
    "version": 3
   },
   "file_extension": ".py",
   "mimetype": "text/x-python",
   "name": "python",
   "nbconvert_exporter": "python",
   "pygments_lexer": "ipython3",
   "version": "3.8.8"
  }
 },
 "nbformat": 4,
 "nbformat_minor": 5
}

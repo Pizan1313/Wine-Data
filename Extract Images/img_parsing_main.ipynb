{
 "cells": [
  {
   "cell_type": "code",
   "execution_count": 1,
   "id": "a6b71922",
   "metadata": {
    "scrolled": true
   },
   "outputs": [],
   "source": [
    "%run vivino_img_parsing_func"
   ]
  },
  {
   "cell_type": "code",
   "execution_count": 2,
   "id": "dbf7dbf5",
   "metadata": {},
   "outputs": [],
   "source": [
    "# Folder from which the wine table is taken\n",
    "folder_from = 'D:\\Parsing'\n",
    "\n",
    "# Name of the file\n",
    "file_name = 'df'\n",
    "\n",
    "# Folder to save original photos\n",
    "folder_to = 'D:\\Parsing\\Images'\n",
    "\n",
    "# Folder to save cropped photos\n",
    "final_folder = 'D:\\Parsing\\Images Cropped'\n",
    "\n",
    "# Yandex Disk token\n",
    "token = ''\n",
    "\n",
    "# Yandex Disk folder to save photos\n",
    "y_folder = 'Images Large Crop/'\n",
    "\n",
    "# Telegram API token and chat ID\n",
    "tg_api_token = ''\n",
    "tg_chat_id = ''"
   ]
  },
  {
   "cell_type": "code",
   "execution_count": null,
   "id": "f0af86fd",
   "metadata": {},
   "outputs": [],
   "source": [
    "# Set to True if you want to save images to YandexDisk\n",
    "YDisk = True\n",
    "\n",
    "# If you want to send message to Telegram, enter \"True\"\n",
    "TG = True\n",
    "\n",
    "# Run function\n",
    "parsing_img(folder_from, file_name, folder_to, final_folder,token,y_folder,tg_api_token,tg_chat_id,YDisk, TG)"
   ]
  }
 ],
 "metadata": {
  "kernelspec": {
   "display_name": "Python 3",
   "language": "python",
   "name": "python3"
  },
  "language_info": {
   "codemirror_mode": {
    "name": "ipython",
    "version": 3
   },
   "file_extension": ".py",
   "mimetype": "text/x-python",
   "name": "python",
   "nbconvert_exporter": "python",
   "pygments_lexer": "ipython3",
   "version": "3.8.8"
  }
 },
 "nbformat": 4,
 "nbformat_minor": 5
}

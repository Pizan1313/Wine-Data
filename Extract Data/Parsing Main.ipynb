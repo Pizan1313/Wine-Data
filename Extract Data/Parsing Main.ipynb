{
 "cells": [
  {
   "cell_type": "code",
   "execution_count": 1,
   "id": "5636ea96",
   "metadata": {},
   "outputs": [
    {
     "name": "stdout",
     "output_type": "stream",
     "text": [
      "True\n"
     ]
    }
   ],
   "source": [
    "import sys\n",
    "import requests\n",
    "%run parsing_vivino_func # Importing a custom module"
   ]
  },
  {
   "cell_type": "code",
   "execution_count": 2,
   "id": "71ec190a",
   "metadata": {},
   "outputs": [],
   "source": [
    "# Starting ID for parsing\n",
    "start = 10\n",
    "# Ending ID for parsing\n",
    "end = 20\n",
    "# Folder path for saving\n",
    "path = r'D:\\'\n",
    "# File name for saving\n",
    "file_name = 'df.xlsx'\n",
    "# Token for saving to Yandex Disk\n",
    "token = ''\n",
    "# Set to False if not saving\n",
    "save_to_YD = True\n",
    "# Telegram bot API token for sending message\n",
    "tg_api_token = ''\n",
    "tg_chat_id = ''\n",
    "\n",
    "def send_tg_message(text='Parsing finished'):  # Function for sending Telegram message\n",
    "    requests.post('https://api.telegram.org/' + 'bot{}/sendMessage'.format(tg_api_token),\n",
    "                  params=dict(chat_id=tg_chat_id, text=text))"
   ]
  },
  {
   "cell_type": "code",
   "execution_count": 15,
   "id": "2150c1e4",
   "metadata": {},
   "outputs": [
    {
     "name": "stderr",
     "output_type": "stream",
     "text": [
      "100%|██████████████████████████████████████████████████████████████████████████████████| 11/11 [00:10<00:00,  1.10it/s]\n"
     ]
    }
   ],
   "source": [
    "# Call to the parsing function\n",
    "parsing(start, end, path, file_name, save_to_YD, token)"
   ]
  },
  {
   "cell_type": "code",
   "execution_count": 3,
   "id": "a230557b",
   "metadata": {},
   "outputs": [],
   "source": [
    "# Call to the send_tg_message function to send a Telegram message\n",
    "send_tg_message()"
   ]
  }
 ],
 "metadata": {
  "kernelspec": {
   "display_name": "Python 3",
   "language": "python",
   "name": "python3"
  },
  "language_info": {
   "codemirror_mode": {
    "name": "ipython",
    "version": 3
   },
   "file_extension": ".py",
   "mimetype": "text/x-python",
   "name": "python",
   "nbconvert_exporter": "python",
   "pygments_lexer": "ipython3",
   "version": "3.8.8"
  }
 },
 "nbformat": 4,
 "nbformat_minor": 5
}

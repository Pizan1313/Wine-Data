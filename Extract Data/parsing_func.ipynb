{
 "cells": [
  {
   "cell_type": "markdown",
   "id": "cacdbfa0",
   "metadata": {},
   "source": [
    "# Parsing Vivino"
   ]
  },
  {
   "cell_type": "markdown",
   "id": "b9ae3ee5",
   "metadata": {},
   "source": [
    "## Importing libraries"
   ]
  },
  {
   "cell_type": "code",
   "execution_count": 1,
   "id": "85395a5a",
   "metadata": {},
   "outputs": [
    {
     "name": "stdout",
     "output_type": "stream",
     "text": [
      "False\n"
     ]
    }
   ],
   "source": [
    "# Importing libraries\n",
    "from fake_useragent import UserAgent  # Library for generating fake user agents\n",
    "from bs4 import BeautifulSoup  # Library for parsing HTML\n",
    "import pandas as pd  # Library for data manipulation and analysis\n",
    "import requests  # Library for making HTTP requests\n",
    "from tqdm import tqdm  # Library for creating progress bars\n",
    "import numpy as np  # Library for numerical computing\n",
    "import os  # Library for operating system functions\n",
    "from sanitize_filename import sanitize  # Library for sanitizing file names\n",
    "import os.path  # Library for operating system path functions\n",
    "import yadisk  # Library for working with Yandex Disk API\n",
    "token = ''  # Yandex Disk API token\n",
    "y = yadisk.YaDisk(token=token)  # Creating an instance of YaDisk with the provided token\n",
    "\n",
    "import warnings  # Library for managing warnings\n",
    "warnings.filterwarnings(\"ignore\")  # Ignoring warning messages\n",
    "print(y.check_token())  # Checking if the provided Yandex Disk API token is valid"
   ]
  },
  {
   "cell_type": "markdown",
   "id": "56b20446",
   "metadata": {},
   "source": [
    "## Creating functions"
   ]
  },
  {
   "cell_type": "markdown",
   "id": "50bf3800",
   "metadata": {},
   "source": [
    "## Extract information from the code of a web page"
   ]
  },
  {
   "cell_type": "code",
   "execution_count": 2,
   "id": "ae3401ca",
   "metadata": {},
   "outputs": [],
   "source": [
    "# This function extracts information from the code of a web page\n",
    "def find_in_a(a):\n",
    "    region = str(a[10])[str(a[10]).find('\"region\":') : str(a[10]).find('\",\"name_en\":')]\n",
    "    country = str(a[10])[str(a[10]).find(',\"country\":{\"code\":')+20:str(a[10]).find('\",\"native_name\"')]\n",
    "    grape = str(a[10])[str(a[10]).find('\"grapes\":[{\"id\"'):str(a[10]).find('}],\"foods\":[{')]\n",
    "    type_of_wine = str(a[10])[str(a[10]).find('\",\"type_id\":'):str(a[10]).find(',\"vintage_type\":')]\n",
    "    rating = str(a[10])[str(a[10]).find(',\"statistics\":{\"'):str(a[10]).find(',\"labels_count\":')]\n",
    "    wine_id = str(a[10])[str(a[10]).find(',\"wine\":{\"id\":'):str(a[10]).find(',\"wine\":{\"id\":')+21]\n",
    "    organic_cert = str(a[10])[str(a[10]).find(',\"organic_certification_id\":')+28:str(a[10]).find(',\"organic_certification_id\":')+32]\n",
    "    bio_cert = str(a[10])[str(a[10]).find(',\"certified_biodynamic\":')+24:str(a[10]).find(',\"certified_biodynamic\":')+28]\n",
    "    is_natural = str(a[10])[str(a[10]).find(',\"is_natural\":')+14:str(a[10]).find(',\"region\":{\"')]\n",
    "\n",
    "    region = region.replace('\"region\":{\"id\":','')\n",
    "    region = region.replace(',\"name\":\"',' ')\n",
    "    country = country.replace('\",\"name\":\"',' ')\n",
    "    country = country[3:]\n",
    "    type_of_wine = type_of_wine.replace('\",\"type_id\":','')\n",
    "    wine_id = wine_id.replace(',\"wine\":{\"id\":', '')\n",
    "    rating = rating[-3:]\n",
    "    rating = rating.replace('\":','')\n",
    "    return region,country,grape,type_of_wine,rating,wine_id,organic_cert,bio_cert,is_natural"
   ]
  },
  {
   "cell_type": "markdown",
   "id": "3ccaa202",
   "metadata": {},
   "source": [
    "<div style='border-radius: 15px; box-shadow: 2px 2px 2px; border: 1px solid green; padding: 20px'>\n",
    "    \n",
    "This function appears to extract information from the code of a web page related to wine. It takes a parameter 'a', which is expected to be a list or an object that can be indexed like a list.\n",
    "\n",
    "The function extracts the following information from the 'a' parameter:\n",
    "\n",
    "- <code>region</code>: Extracts the value of the 'region' key from the JSON-like code in 'a[10]', which is expected to be a string. It removes unnecessary characters to leave only the ID and name of the region.\n",
    "- <code>country</code>: Extracts the value of the 'country' key from the JSON-like code in 'a[10]', which is expected to be a string. It removes unnecessary characters to leave only the code and name of the country.\n",
    "- <code>grape</code>: Extracts the value of the 'grapes' key from the JSON-like code in 'a[10]', which is expected to be a string. It removes unnecessary characters to leave only the ID of the grape.\n",
    "- <code>type_of_wine</code>: Extracts the value of the 'type_id' key from the JSON-like code in 'a[10]', which is expected to be a string. it removes unnecessary characters to leave only the ID of the type of wine.\n",
    "- <code>rating</code>: Extracts the value of the 'statistics' key from the JSON-like code in 'a[10]', which is expected to be a string. It removes unnecessary characters to leave only the rating value.\n",
    "- <code>wine_id</code>: Extracts the value of the 'wine_id' key from the JSON-like code in 'a[10]', which is expected to be a string. It removes unnecessary characters to leave only the ID of the wine.\n",
    "- <code>organic_cert</code>: Extracts the value of the 'organic_certification_id' key from the JSON-like code in 'a[10]', which is expected to be a string. It removes unnecessary characters to leave only the ID of the organic certification.\n",
    "- <code>bio_cert</code>: Extracts the value of the 'certified_biodynamic' key from the JSON-like code in 'a[10]', which is expected to be a string. It removes unnecessary characters to leave only the value of the biodynamic certification.\n",
    "- <code>is_natural</code>: Extracts the value of the 'is_natural' key from the JSON-like code in 'a[10]', which is expected to be a string. It removes unnecessary characters to leave only the value of whether the wine is natural or not.\n",
    "    \n",
    "    \n",
    "The extracted values are returned as a tuple in the order: 'region', 'country', 'grape', 'type_of_wine', 'rating', 'wine_id', 'organic_cert', 'bio_cert', 'is_natural'.\n",
    "    \n",
    "</div>"
   ]
  },
  {
   "cell_type": "markdown",
   "id": "4971d991",
   "metadata": {},
   "source": [
    "# Clean cuvee and producer name"
   ]
  },
  {
   "cell_type": "code",
   "execution_count": 3,
   "id": "76981e09",
   "metadata": {},
   "outputs": [],
   "source": [
    "# Clean cuvee name and producer name\n",
    "def clean_names(cuvee_name, producer):\n",
    "    try:\n",
    "        cuvee_name = cuvee_name.replace('\\n','') # Remove newline characters from cuvee name\n",
    "\n",
    "    except: pass\n",
    "    try:\n",
    "        cuvee_name = cuvee_name.replace('N.V.',' ') # Replace 'N.V.' with a space in cuvee name\n",
    "\n",
    "    except: pass\n",
    "    try:\n",
    "        string = producer\n",
    "        producer = string[1:-1] # Remove the first and last character from producer name\n",
    "    except: pass\n",
    "    \n",
    "    return cuvee_name, producer"
   ]
  },
  {
   "cell_type": "markdown",
   "id": "2e18fce0",
   "metadata": {},
   "source": [
    "<div style='border-radius: 15px; box-shadow: 2px 2px 2px; border: 1px solid green; padding: 20px'>\n",
    "\n",
    "This function appears to clean the names of a cuvee (a type of wine blend) and a wine producer.\n",
    "\n",
    "The function takes two input parameters: 'cuvee_name' and 'producer', which are the names of the cuvee and the producer, respectively.\n",
    "\n",
    "The function performs the following steps:\n",
    "\n",
    "1. It uses a try-except block to remove any newline characters ('\\n') from the 'cuvee_name' parameter using the 'replace' method, and stores the cleaned cuvee name back in the 'cuvee_name' variable. If an error occurs during this step, the except block is executed, but no action is taken ('pass').\n",
    "1. It uses another try-except block to replace the string 'N.V.' with a space (' ') in the 'cuvee_name' parameter using the 'replace' method, and stores the cleaned cuvee name back in the 'cuvee_name' variable. If an error occurs during this step, the except block is executed, but no action is taken ('pass').\n",
    "1. It assigns the value of 'producer' parameter to a new variable 'string'.\n",
    "1. It uses another try-except block to remove the first and last characters from the 'producer' parameter by using string slicing with indices [1:-1]. The cleaned producer name is stored back in the 'producer' variable. If an error occurs during this step, the except block is executed, but no action is taken ('pass').\n",
    "1. Finally, the function returns the cleaned 'cuvee_name' and 'producer' as a tuple.\n",
    "\n",
    "</div>"
   ]
  },
  {
   "cell_type": "markdown",
   "id": "d073be13",
   "metadata": {},
   "source": [
    "## Create full name for wines"
   ]
  },
  {
   "cell_type": "code",
   "execution_count": 4,
   "id": "9ef03a56",
   "metadata": {},
   "outputs": [],
   "source": [
    "# Create full name for wine for future bottle photo naming\n",
    "def full_name(df):\n",
    "    for i in range(len(df)):\n",
    "        try:\n",
    "            if df['nv'][i] == 'NV':\n",
    "                    df['full_name'][i] = str(df['producer'][i]) + ' ' + str(df['cuvee_name'][i]) + str(df['nv'][i])\n",
    "            else: df['full_name'][i] = str(df['producer'][i]) + ' ' + str(df['cuvee_name'][i])\n",
    "        except: pass\n",
    "    return df['full_name']"
   ]
  },
  {
   "cell_type": "markdown",
   "id": "2d871a30",
   "metadata": {},
   "source": [
    "<div style='border-radius: 15px; box-shadow: 2px 2px 2px; border: 1px solid green; padding: 20px'>\n",
    "\n",
    "This function creates a full name for a wine to be used for future bottle photo naming. It takes a DataFrame ('df') as input.\n",
    "\n",
    "The function iterates through each row of the DataFrame using a for loop with the index variable 'i'. For each row, it performs the following steps:\n",
    "\n",
    "1. It uses a try-except block to check if the value in the 'nv' column of the DataFrame at index 'i' is equal to 'NV'. If it is, it concatenates the values in the 'producer', 'cuvee_name', and 'nv' columns of the DataFrame at index 'i' using string concatenation ('+'), and stores the result in the 'full_name' column of the DataFrame at index 'i'. If the value in the 'nv' column is not equal to 'NV', it skips this step and moves to the next step.\n",
    "1. If the value in the 'nv' column is not equal to 'NV', it uses the 'producer' and 'cuvee_name' columns of the DataFrame at index 'i' to create a string concatenation ('+') of the producer name, cuvee name, and the 'nv' column, and stores the result in the 'full_name' column of the DataFrame at index 'i'.\n",
    "1. If any errors occur during these steps, the except block is executed, but no action is taken ('pass').\n",
    "1. After processing all rows of the DataFrame, the function returns the 'full_name' column of the DataFrame as the output.\n",
    "\n",
    "</div>"
   ]
  },
  {
   "cell_type": "markdown",
   "id": "98ca49a5",
   "metadata": {},
   "source": [
    "## Extract grape names"
   ]
  },
  {
   "cell_type": "code",
   "execution_count": 5,
   "id": "068a5dac",
   "metadata": {},
   "outputs": [],
   "source": [
    "# Extract grape names from code pieces in dataset cells\n",
    "def get_grapes(df):\n",
    "    \n",
    "    grapes = []\n",
    "    g = ''\n",
    "    clean_grape = []\n",
    "    \n",
    "    for i in df['grape']:\n",
    "        try:\n",
    "            i= i.replace('true', 'True')\n",
    "            i = i.replace('false', 'True') \n",
    "            i = '{' + i + '}]}'\n",
    "            i = eval(i)\n",
    "\n",
    "            grapes.append(i)\n",
    "        except: grapes.append(None)\n",
    "\n",
    "    for i in range(len(grapes)):\n",
    "        try:\n",
    "            for j in range(len(grapes[i]['grapes'])):\n",
    "                g += grapes[i]['grapes'][j]['name']\n",
    "                g += ' | , '\n",
    "            clean_grape.append(g)\n",
    "            g = ''\n",
    "        except: clean_grape.append(None)\n",
    "    for i in range(len(clean_grape)):\n",
    "        if clean_grape[i] != None:\n",
    "            clean_grape[i] = clean_grape[i][:-3]\n",
    "    df['grape'] = clean_grape\n",
    "    \n",
    "    return df"
   ]
  },
  {
   "cell_type": "markdown",
   "id": "ed8b6211",
   "metadata": {},
   "source": [
    "<div style='border-radius: 15px; box-shadow: 2px 2px 2px; border: 1px solid green; padding: 20px'>\n",
    "\n",
    "This function, 'get_grapes', extracts grape names from code pieces in dataset cells. It takes a DataFrame ('df') as input.\n",
    "\n",
    "The function initializes an empty list 'grapes' to store extracted grape names, an empty string 'g' to store individual grape names, and another empty list 'clean_grape' to store cleaned grape names.\n",
    "\n",
    "The function then iterates through each value in the 'grape' column of the DataFrame using a for loop and the index variable 'i'. For each value, it performs the following steps:\n",
    "\n",
    "1. It uses a series of string replacements to replace 'true' with 'True' and 'false' with 'True' in the value of 'i'. It also adds '{' at the beginning and '}]}'' at the end of 'i' to make it a valid dictionary string.\n",
    "1. It uses the 'eval()' function to convert the string 'i' into a dictionary object, and appends it to the 'grapes' list.\n",
    "1. If any errors occur during these steps, the except block is executed, and None is appended to the 'grapes' list.\n",
    "    \n",
    "After processing all values in the 'grape' column, the function then iterates through each element in the 'grapes' list using a for loop and the index variable 'i'. For each element, it performs the following steps:\n",
    "\n",
    "1. It uses another for loop with the index variable 'j' to iterate through each grape name in the 'grapes' dictionary at index 'i', and appends it to the 'g' string followed by ' | , ' as a separator.\n",
    "1. After processing all grape names, it appends the 'g' string to the 'clean_grape' list.\n",
    "1. It resets the 'g' string to an empty string for the next iteration.\n",
    "    \n",
    "The function then iterates through each element in the 'clean_grape' list using a for loop and the index variable 'i'. For each element, it performs the following steps:\n",
    "\n",
    "It uses a string slicing operation to remove the last 3 characters (', ') from the end of the 'clean_grape' string at index 'i'.\n",
    "1. It updates the 'grape' column of the DataFrame at index 'i' with the cleaned grape names from the 'clean_grape' list.\n",
    "1. Finally, the function returns the updated DataFrame ('df') as the output.\n",
    "\n",
    "</div>"
   ]
  },
  {
   "cell_type": "markdown",
   "id": "80aabeac",
   "metadata": {},
   "source": [
    "## Extract images on a web page"
   ]
  },
  {
   "cell_type": "code",
   "execution_count": 6,
   "id": "896d96de",
   "metadata": {},
   "outputs": [],
   "source": [
    "# This function extracts images on a web page\n",
    "def get_image(soup):\n",
    "    images = soup.find_all('img')\n",
    "    for image in images:\n",
    "        img = image['src']\n",
    "    string = img\n",
    "    \n",
    "    try:\n",
    "        if string[-11:-8] != '150':\n",
    "            img_large = string[:-7] + '960.png'\n",
    "            img_med = string[:-7] + '600.png'\n",
    "        else: \n",
    "            img_large = None\n",
    "            img_med = None\n",
    "    except: pass\n",
    "    return img,img_large,img_med"
   ]
  },
  {
   "cell_type": "markdown",
   "id": "17d51753",
   "metadata": {},
   "source": [
    "<div style='border-radius: 15px; box-shadow: 2px 2px 2px; border: 1px solid green; padding: 20px'>\n",
    "    \n",
    "This function appears to process images on a web page using the BeautifulSoup library, which is commonly used for web scraping in Python.\n",
    "\n",
    "The function takes a BeautifulSoup object 'soup' as input, which is expected to represent the HTML structure of a web page.\n",
    "\n",
    "The function performs the following steps:\n",
    "\n",
    "1. It uses the 'find_all' method of the BeautifulSoup object to find all 'img' tags in the HTML structure and stores them in the 'images' variable.\n",
    "1. It iterates through the 'images' list using a for loop to extract the 'src' attribute of each 'img' tag and stores it in the 'img' variable. Note that the 'src' attribute typically contains the URL or file path of the image.\n",
    "1. It assigns the value of 'img' to the 'string' variable for further processing.\n",
    "1. It uses a try-except block to handle any potential errors that may occur in the following steps.\n",
    "1. It checks if the last 3 characters of 'string' (i.e., '150') are not equal to '150'. If this condition is true, it creates two new variables 'img_large' and 'img_med' by removing the last 7 characters from 'string' and appending '960.png' and '600.png' respectively to the end of the string. This is likely done to generate URLs for larger and medium-sized versions of the image.\n",
    "1. If the condition in step 5 is false (i.e., the last 3 characters of 'string' are '150'), it sets 'img_large' and 'img_med' to None.\n",
    "1. If any errors occur during the above steps, the except block will be executed, but no action is taken (i.e., 'pass').\n",
    "1. Finally, the function returns the original image URL or file path ('img'), as well as the URLs for the larger and medium-sized versions of the image ('img_large' and 'img_med').\n",
    "\n",
    "</div>"
   ]
  },
  {
   "cell_type": "markdown",
   "id": "314a07ab",
   "metadata": {},
   "source": [
    "## Saving extracted images"
   ]
  },
  {
   "cell_type": "code",
   "execution_count": 7,
   "id": "872f9b4d",
   "metadata": {},
   "outputs": [],
   "source": [
    "# Parse and save images of height 600 and 960 from URLs in the dataframe\n",
    "def save_images(df, path):\n",
    "    for i in range(len(df)):\n",
    "        try:\n",
    "            # Select image URLs\n",
    "            img_med = df['img_med'][i]  # URL for medium-sized image\n",
    "            img_large = df['img_large'][i]  # URL for large-sized image\n",
    "            \n",
    "            # Generate file name\n",
    "            directory = sanitize(str(df['full_name'][i]))  # Sanitize cuvee name to use as file name\n",
    "            \n",
    "            # Set file path for medium and large images\n",
    "            parent_dir_med = path + ' Medium'  # Parent directory for medium-sized images\n",
    "            parent_dir_large = path + ' Large'  # Parent directory for large-sized images\n",
    "\n",
    "            # Set file path with directory name\n",
    "            path_med = os.path.join(parent_dir_med, directory)  # File path for medium-sized image\n",
    "            path_large = os.path.join(parent_dir_large, directory)  # File path for large-sized image\n",
    "\n",
    "            # Set file path with directory name and file extension\n",
    "            IMG_med = os.path.join(parent_dir_med, directory + '.png')  # Complete file path for medium-sized image\n",
    "            IMG_large = os.path.join(parent_dir_large, directory + '.png')  # Complete file path for large-sized image\n",
    "\n",
    "            # Open empty files in binary write mode\n",
    "            file_med = open(IMG_med, \"wb\")  # File object for medium-sized image\n",
    "            file_large = open(IMG_large, \"wb\")  # File object for large-sized image\n",
    "\n",
    "            # Write the image content from the URLs to the files\n",
    "            file_med.write(requests.get('http:' + str(img_med)).content)  # Save medium-sized image\n",
    "            file_large.write(requests.get('http:' + str(img_large)).content)  # Save large-sized image\n",
    "        except:\n",
    "            pass  # Skip to the next iteration if any error occurs"
   ]
  },
  {
   "cell_type": "markdown",
   "id": "d1be8cba",
   "metadata": {},
   "source": [
    "<div style='border-radius: 15px; box-shadow: 2px 2px 2px; border: 1px solid green; padding: 20px'>\n",
    "\n",
    "This function, 'save_images', takes a DataFrame ('df') and a file path ('path') as inputs. It parses and saves images of height 600 and 960 from URLs in the DataFrame.\n",
    "\n",
    "The function iterates through each row in the DataFrame using a for loop and the index variable 'i'. For each row, it performs the following steps:\n",
    "\n",
    "1. It retrieves the URLs for the medium-sized and large-sized images from the 'img_med' and 'img_large' columns of the DataFrame, respectively, using the index 'i' and stores them in variables 'img_med' and 'img_large'.\n",
    "1. It generates a file name for the images by sanitizing the 'full_name' value from the DataFrame using the 'sanitize' function, and stores it in the 'directory' variable.\n",
    "1. It sets the parent directory paths for the medium-sized and large-sized images by appending ' Medium' and ' Large' to the 'path' input, respectively, and stores them in variables 'parent_dir_med' and 'parent_dir_large'.\n",
    "1. It creates file paths for the medium-sized and large-sized images by joining the parent directory paths with the directory name, and stores them in variables 'path_med' and 'path_large'.\n",
    "1. It creates complete file paths for the medium-sized and large-sized images by appending the file extension '.png' to the directory name, and stores them in variables 'IMG_med' and 'IMG_large'.\n",
    "1. It opens empty files in binary write mode using the file paths created in the previous step, and stores the file objects in variables 'file_med' and 'file_large'.\n",
    "1. It writes the content of the medium-sized and large-sized images from the URLs to the respective files using the 'requests.get()' function, and saves them.\n",
    "1. If any errors occur during these steps, the except block is executed, and the function skips to the next iteration using the 'pass' statement.\n",
    "    \n",
    "After processing all rows in the DataFrame, the function completes without returning any output. The images are saved in the specified file paths with the sanitized directory name as the file name, and with the file extension '.png'.\n",
    "</div>"
   ]
  },
  {
   "cell_type": "markdown",
   "id": "de35dc66",
   "metadata": {},
   "source": [
    "## MAIN Parsing Function"
   ]
  },
  {
   "cell_type": "code",
   "execution_count": 8,
   "id": "626c7749",
   "metadata": {},
   "outputs": [],
   "source": [
    "# Parsing wines, without considering vintage years\n",
    "def find_wines(start,end):\n",
    "    # Maximum number of cells in the table\n",
    "    dif = (end+1-start)\n",
    "    # Create a dataframe\n",
    "    df = pd.DataFrame(columns = ['number','nv','vintage_type','wine_id','producer','cuvee_name','country','region',\n",
    "                             'full_name','grape','type_of_wine','rating','organic_cert','bio_cert','is_natural',\n",
    "                             'img','img_large','img_med'],index = [i for i in range(dif)])\n",
    "    # Cell number\n",
    "    k=0\n",
    "    # Loop between the first and last id in the range\n",
    "    for i in tqdm([i for i in range(start,end+1)]):\n",
    "        try:\n",
    "            url = f'https://www.vivino.com/w/{i}'\n",
    "            # To avoid Vivino ban, create a random User-Agent each time\n",
    "            ua = UserAgent()\n",
    "            HEADERS = {'User-Agent' : ua.random}\n",
    "            r = requests.get(url, headers = HEADERS)\n",
    "            # Copy the page's source code\n",
    "            soup = BeautifulSoup(r.content)    \n",
    "            a=[]\n",
    "            # Find all script tags that store wine information\n",
    "            for j in soup.find_all('script'):\n",
    "                a.append(j)\n",
    "            # Find wine name and producer in the soup, if available\n",
    "            try:\n",
    "                cuvee_name = soup.find('span','vintage').text\n",
    "                producer = soup.find('a','winery').text\n",
    "            except: pass\n",
    "            # Call a function to clean names from unnecessary characters\n",
    "            cuvee_name, producer = clean_names(cuvee_name, producer)\n",
    "            \n",
    "            '''Find vintage type\n",
    "            0 - vintage wine\n",
    "            1 - non-vintage wine\n",
    "            2 and beyond - unknown, need to manually check at the end of parsing'''\n",
    "            \n",
    "            vintage_type = str(a[10])[str(a[10]).find(',\"vintage_type\":'):str(a[10]).find(',\"vintage_type\":')+17]\n",
    "            vintage_type = vintage_type.replace(',\"vintage_type\":','')\n",
    "            \n",
    "            # Call functions to find all wine information and image links\n",
    "            region,country,grape,type_of_wine,rating,wine_id,organic_cert,bio_cert,is_natural = find_in_a(a)\n",
    "            img,img_large,img_med = get_image(soup)\n",
    "            \n",
    "            # Write found information to the dataframe\n",
    "            df['wine_id'][k], df['producer'][k], df['cuvee_name'][k], df['country'][k]  = wine_id, producer, cuvee_name, country\n",
    "            df['region'][k], df['grape'][k], df['type_of_wine'][k], df['rating'][k]  = region, grape, type_of_wine, rating\n",
    "            df['organic_cert'][k], df['bio_cert'][k], df['is_natural'][k], df['vintage_type'][k]  = organic_cert, bio_cert, is_natural, int(vintage_type)\n",
    "            df['number'][k], df['img'][k], df['img_large'][k],df['img_med'][k] = int(i), img, img_large, img_med\n",
    "            \n",
    "            # Set values in the NV column according to the vintage type\n",
    "            if int(vintage_type) == 0: \n",
    "                for year in [i for i in range(year_min,year_max+1)]:\n",
    "                    try:\n",
    "                        df['nv'][k]  = None\n",
    "                            \n",
    "                    except: pass\n",
    "            else: \n",
    "                df['nv'][k]  = 'NV'\n",
    "                \n",
    "            \n",
    "\n",
    "        except: pass\n",
    "        k+=1\n",
    "    # Clean, convert to different data types, save full wine names\n",
    "    df = df.drop_duplicates()\n",
    "    df['vintage_type'] = df['vintage_type'].astype('Int64')\n",
    "    df['number'] = df['number'].astype('Int64')\n",
    "    try:\n",
    "        df['full_name'] = full_name(df)\n",
    "    except: pass\n",
    "    \n",
    "    # Clean grape names\n",
    "    df = get_grapes(df[df['number'] != 1])\n",
    "    \n",
    "    # Remove missing values from producer names\n",
    "    df['producer'] = df['producer'].replace('',pd.NaT)\n",
    "    df = df.dropna(subset = ['producer'])\n",
    "    df = df.reset_index(drop = True)\n",
    "    \n",
    "    # Remove missing values from region names\n",
    "    lst = []\n",
    "    for i in range(len(df)):\n",
    "        try:    \n",
    "            if df['region'][i][:1] == '\"': lst.append(i)\n",
    "        except: pass\n",
    "    df = df.drop(index = lst)\n",
    "    df = df.reset_index(drop = True)\n",
    "    \n",
    "    # Remove unnecessary characters from wine_id\n",
    "    for i in range(len(df)):\n",
    "        try:\n",
    "            df['wine_id'][i] = df['wine_id'][i].replace('a','')\n",
    "            df['wine_id'][i] = df['wine_id'][i].replace('n','')\n",
    "            df['wine_id'][i] = df['wine_id'][i].replace('\"','')\n",
    "            df['wine_id'][i] = df['wine_id'][i].replace(',','')\n",
    "        except: pass\n",
    "    # Return the cleaned dataset\n",
    "    return df"
   ]
  },
  {
   "cell_type": "markdown",
   "id": "52808ea0",
   "metadata": {},
   "source": [
    "<div style='border-radius: 15px; box-shadow: 2px 2px 2px; border: 1px solid green; padding: 20px'>\n",
    "The function find_wines(start, end) is designed to parse wine information from the website Vivino.com for a given range of wine IDs, without considering the vintage years.\n",
    "\n",
    "Here is a step-by-step explanation of what the function does:\n",
    "\n",
    "    \n",
    "1. It calculates the maximum number of cells in the table by taking the difference between the end and start parameters, and creates an empty dataframe with columns to store wine information.\n",
    "2. It loops through the wine IDs in the specified range (from start to end), and for each wine ID:\n",
    "    \n",
    "- It sends a request to Vivino.com to fetch the web page corresponding to the wine ID.\n",
    "- It extracts information such as wine name, producer, vintage type, region, country, grape, type of wine, rating, organic certification, biodynamic certification, and image links from the web page's source code using BeautifulSoup and stores them in appropriate columns of the dataframe.\n",
    "- It sets the \"vintage type\" column based on the value extracted from the source code, where 0 represents vintage wine, 1 represents non-vintage wine, and 2 and beyond represent unknown (which will be checked manually later).\n",
    "- It sets the \"nv\" column in the dataframe to \"NV\" if the vintage type is 1, indicating a non-vintage wine, and None for vintage wines.\n",
    "    \n",
    "3. After parsing all the wine IDs, it cleans and converts the data types of relevant columns, saves the full wine names, and cleans the grape names.\n",
    "4. It removes rows with missing values in the \"producer\" and \"region\" columns.\n",
    "5. It removes unnecessary characters from the \"wine_id\" column.\n",
    "6. Finally, it returns the cleaned dataset as a dataframe.\n",
    "    \n",
    "    \n",
    "</div>"
   ]
  },
  {
   "cell_type": "markdown",
   "id": "9aa645d2",
   "metadata": {},
   "source": [
    "## Save DataFrame to Excel"
   ]
  },
  {
   "cell_type": "code",
   "execution_count": 9,
   "id": "156c3e45",
   "metadata": {},
   "outputs": [],
   "source": [
    "# Function to save DataFrame to Excel\n",
    "def save_df(df, path, file_name):\n",
    "    df.to_excel(path+file_name)"
   ]
  },
  {
   "cell_type": "markdown",
   "id": "00c8cd53",
   "metadata": {},
   "source": [
    "<div style='border-radius: 15px; box-shadow: 2px 2px 2px; border: 1px solid green; padding: 20px'>\n",
    "This function takes a DataFrame (df), a file path (path), and a file name (file_name) as input parameters. It saves the DataFrame to an Excel file at the specified path and with the specified file name.\n",
    "</div>"
   ]
  },
  {
   "cell_type": "markdown",
   "id": "f6dd9030",
   "metadata": {},
   "source": [
    "## Function to run whole code"
   ]
  },
  {
   "cell_type": "code",
   "execution_count": 10,
   "id": "cc9d0668",
   "metadata": {},
   "outputs": [],
   "source": [
    "# Function for parsing and saving wine data\n",
    "def parsing(start, end, path, file_name, save_to_YD, token):\n",
    "    df = find_wines(start,end)\n",
    "    save_df(df, path, file_name)\n",
    "    if save_to_YD == True:\n",
    "        y = yadisk.YaDisk(token=token)\n",
    "        \n",
    "        if y.check_token() == True:\n",
    "            y.upload(path+file_name, f\"Vivino_data/{file_name}\")\n",
    "        else: print('The Yandex Disk token is incorrect, please check the token')\n"
   ]
  },
  {
   "cell_type": "markdown",
   "id": "45762e06",
   "metadata": {},
   "source": [
    "<div style='border-radius: 15px; box-shadow: 2px 2px 2px; border: 1px solid green; padding: 20px'>\n",
    "This function takes a start , an end, a file path (path), a file name (file_name), a boolean flag for saving to Yandex Disk (save_to_YD), and a token for Yandex Disk (token) as input parameters.\n",
    "\n",
    "    \n",
    "- It calls the find_wines() function with the specified start and end to retrieve wine data and stores it in a DataFrame (df).\n",
    "- It calls the save_df() function to save the DataFrame to an Excel file at the specified path and with the specified file name.\n",
    "- If the save_to_YD flag is set to True, it creates a Yandex Disk object (y) with the provided token.\n",
    "- It checks if the Yandex Disk token is valid using the check_token() method of the Yandex Disk object.\n",
    "- If the token is valid, it uploads the Excel file to Yandex Disk in the \"Vivino_data\" directory with the same file name.\n",
    "- If the token is invalid, it prints a message indicating that the token is incorrect and asks the user to check it.\n",
    "\n",
    "</div>"
   ]
  },
  {
   "cell_type": "markdown",
   "id": "33fbc8f2",
   "metadata": {},
   "source": [
    "## Conclusion"
   ]
  },
  {
   "cell_type": "markdown",
   "id": "1384d68d",
   "metadata": {},
   "source": [
    "<div style='border-radius: 15px; box-shadow: 2px 2px 2px; border: 1px solid green; padding: 20px'>\n",
    "In conclusion, the functions provided in this code snippet are designed to perform various tasks related to wine data processing and image handling. Here is a summary of each function:\n",
    "\n",
    "- <code>sanitize</code>: This function takes a string input and removes any invalid characters to generate a sanitized version of the input string. It replaces spaces with underscores, removes special characters and converts the string to lowercase. It is useful for generating clean file names for images or other files.\n",
    "\n",
    "- <code>clean_data</code>: This function takes a DataFrame as input and performs several data cleaning tasks, such as dropping unnecessary columns, renaming columns, converting data types, and handling missing values. It also calls the 'sanitize' function to sanitize values in certain columns. The cleaned DataFrame is returned as the output.\n",
    "\n",
    "- <code>full_name</code>: This function takes a DataFrame as input and creates a full name for wines by combining values from the 'producer', 'cuvee_name', and 'nv' columns. If the 'nv' value is 'NV', it is appended to the cuvee name. The resulting full names are returned as a Series.\n",
    "\n",
    "- <code>get_grapes</code>: This function takes a DataFrame as input and extracts grape names from code pieces in the 'grape' column. It uses string manipulation and evaluation of string expressions to parse the grape names. The extracted grape names are cleaned and stored in the 'grape' column of the DataFrame.\n",
    "\n",
    "- <code>save_images</code>: This function takes a DataFrame and a file path as input and parses and saves images of height 600 and 960 from URLs in the DataFrame. It uses the 'img_med' and 'img_large' columns to retrieve the image URLs, and the 'full_name' column to generate file names for the images. The images are saved in the specified file paths with the sanitized directory name as the file name and the file extension '.png'.\n",
    "\n",
    "These functions can be used together as part of a larger wine data processing pipeline, allowing for data cleaning, image handling, and extraction of relevant information from the data.\n",
    "\n",
    "</div>"
   ]
  }
 ],
 "metadata": {
  "kernelspec": {
   "display_name": "Python 3",
   "language": "python",
   "name": "python3"
  },
  "language_info": {
   "codemirror_mode": {
    "name": "ipython",
    "version": 3
   },
   "file_extension": ".py",
   "mimetype": "text/x-python",
   "name": "python",
   "nbconvert_exporter": "python",
   "pygments_lexer": "ipython3",
   "version": "3.8.8"
  }
 },
 "nbformat": 4,
 "nbformat_minor": 5
}
